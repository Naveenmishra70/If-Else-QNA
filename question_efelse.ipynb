{
 "cells": [
  {
   "cell_type": "code",
   "execution_count": 1,
   "metadata": {
    "id": "IQW9jtU3QnS2"
   },
   "outputs": [
    {
     "name": "stdout",
     "output_type": "stream",
     "text": [
      "enter the value 2\n",
      "12.56\n"
     ]
    }
   ],
   "source": [
    "r = eval(input('enter the value '))\n",
    "pi = 3.14\n",
    "area = pi*(r**2)\n",
    "print(area)"
   ]
  },
  {
   "cell_type": "code",
   "execution_count": null,
   "metadata": {
    "id": "RqV0A_6XQuzC"
   },
   "outputs": [],
   "source": [
    "x = eval(input('enter the value '))\n",
    "if x>=5:\n",
    "    print('hello')\n",
    "else:\n",
    "    print('bye')"
   ]
  },
  {
   "cell_type": "code",
   "execution_count": null,
   "metadata": {
    "id": "m4THPYI1Q0zj"
   },
   "outputs": [],
   "source": [
    "x = eval(input('enter the value '))\n",
    "a = x%10\n",
    "print(a)\n",
    "if a%2==0:\n",
    "    print('even',)\n",
    "else:\n",
    "    print('odd')"
   ]
  },
  {
   "cell_type": "code",
   "execution_count": 32,
   "metadata": {
    "colab": {
     "base_uri": "https://localhost:8080/"
    },
    "id": "-JCLg1rEQ4YL",
    "outputId": "115b90dc-db79-4dc7-9e2b-1095ebd73e5c"
   },
   "outputs": [
    {
     "name": "stdout",
     "output_type": "stream",
     "text": [
      "yes10\n",
      "yes20\n",
      "yes30\n"
     ]
    }
   ],
   "source": [
    "a=10\n",
    "b=20\n",
    "c=30\n",
    "\n",
    "if a==10:\n",
    "    print('yes10')\n",
    "    if b==20:\n",
    "        print('yes20')\n",
    "    if c==30:\n",
    "        print('yes30')"
   ]
  },
  {
   "cell_type": "code",
   "execution_count": 1,
   "metadata": {
    "id": "nHg2EtLYQ9G4"
   },
   "outputs": [
    {
     "ename": "IndentationError",
     "evalue": "expected an indented block after 'else' statement on line 4 (2338699476.py, line 5)",
     "output_type": "error",
     "traceback": [
      "\u001b[1;36m  Cell \u001b[1;32mIn[1], line 5\u001b[1;36m\u001b[0m\n\u001b[1;33m    if m>=34 and m<=100:\u001b[0m\n\u001b[1;37m    ^\u001b[0m\n\u001b[1;31mIndentationError\u001b[0m\u001b[1;31m:\u001b[0m expected an indented block after 'else' statement on line 4\n"
     ]
    }
   ],
   "source": [
    "m = int(input('enter the marks '))\n",
    "if m>0 and m<=33:\n",
    "    print('grade fail')\n",
    "else:\n",
    "if m>=34 and m<=100:\n",
    "        print('grade pass')\n",
    "else:\n",
    "    print('take a valid input ')\n"
   ]
  },
  {
   "cell_type": "code",
   "execution_count": 9,
   "metadata": {
    "colab": {
     "base_uri": "https://localhost:8080/"
    },
    "id": "Rq3IoOlkRJ08",
    "outputId": "d4c84658-52b6-47c8-c7eb-ae53b10b83c9"
   },
   "outputs": [
    {
     "name": "stdout",
     "output_type": "stream",
     "text": [
      "enter the working year 2\n",
      "enter the current salary 25000\n",
      "current salary  25625.0\n"
     ]
    }
   ],
   "source": [
    "cy = int(input('enter the working year '))\n",
    "sa = int(input('enter the current salary '))\n",
    "if cy>=1 and cy<=5:\n",
    "    print('current salary ',((sa*0.025)+sa))\n",
    "else:\n",
    "    if cy>=6 and cy<=10:\n",
    "        print('current salary ',((sa*0.04)+sa))\n",
    "    else:\n",
    "        if cy>10:\n",
    "            print('take a valid input ',((sa*0.055)+sa))\n",
    "        else:\n",
    "            print('take a valid input ')"
   ]
  },
  {
   "cell_type": "code",
   "execution_count": 10,
   "metadata": {
    "colab": {
     "base_uri": "https://localhost:8080/"
    },
    "id": "kiJ9la3rRP9y",
    "outputId": "6833df94-f5e6-42c9-de50-772cf6c21c9a"
   },
   "outputs": [
    {
     "name": "stdout",
     "output_type": "stream",
     "text": [
      "enter the number 40\n",
      "enter the number 20\n",
      "enter the operator +\n",
      "60\n"
     ]
    }
   ],
   "source": [
    "x = int(input('enter the number '))\n",
    "y = int(input('enter the number '))\n",
    "s = input('enter the operator ')\n",
    "\n",
    "if s=='+':\n",
    "     print(x+y)\n",
    "else:\n",
    "    if s=='-':\n",
    "        print(x-y)\n",
    "    else:\n",
    "        if s=='*':\n",
    "            print(x*y)\n",
    "        else:\n",
    "            print('take a valid input ')"
   ]
  },
  {
   "cell_type": "code",
   "execution_count": 2,
   "metadata": {
    "colab": {
     "base_uri": "https://localhost:8080/"
    },
    "id": "M1PWmwClRT2B",
    "outputId": "fcbd8b3e-0d99-4f78-b5e0-6a33c19f0eb5"
   },
   "outputs": [
    {
     "name": "stdout",
     "output_type": "stream",
     "text": [
      "enter the working year 9\n",
      "enter the current salary 58000\n",
      "current salary  60320.0\n"
     ]
    }
   ],
   "source": [
    "cy = int(input('enter the working year '))\n",
    "sa = int(input('enter the current salary '))\n",
    "if cy>=1 and cy<=5:\n",
    "    print('current salary ',((sa*0.025)+sa))\n",
    "else:\n",
    "    if cy>=6 and cy<=10:\n",
    "        print('current salary ',((sa*0.04)+sa))\n",
    "    else:\n",
    "        if cy>10:\n",
    "            print('take a valid input ',((sa*0.055)+sa))\n",
    "        else:\n",
    "             print('take a valid input ')"
   ]
  },
  {
   "cell_type": "code",
   "execution_count": 3,
   "metadata": {
    "colab": {
     "base_uri": "https://localhost:8080/"
    },
    "id": "wuNs-XZHRWuA",
    "outputId": "3ee468f3-d851-4403-f960-5beea67f7f8a"
   },
   "outputs": [
    {
     "ename": "IndentationError",
     "evalue": "expected an indented block after 'if' statement on line 5 (4188309280.py, line 6)",
     "output_type": "error",
     "traceback": [
      "\u001b[1;36m  Cell \u001b[1;32mIn[3], line 6\u001b[1;36m\u001b[0m\n\u001b[1;33m    print((u-100)*5)\u001b[0m\n\u001b[1;37m    ^\u001b[0m\n\u001b[1;31mIndentationError\u001b[0m\u001b[1;31m:\u001b[0m expected an indented block after 'if' statement on line 5\n"
     ]
    }
   ],
   "source": [
    "u = int(input('enter the unit '))\n",
    "if u>=0 and u<=100:\n",
    "    print('no bill')\n",
    "else:\n",
    "    if u>100 and u<=200:\n",
    "    print((u-100)*5)\n",
    "     else:\n",
    "        if u>200:\n",
    "            print(500+((u-500)*10))\n",
    "            else:\n",
    "            print('take a valid input')"
   ]
  },
  {
   "cell_type": "code",
   "execution_count": 22,
   "metadata": {
    "colab": {
     "base_uri": "https://localhost:8080/"
    },
    "id": "89Li3JW-Rbm4",
    "outputId": "de5a4f82-1dbd-487b-8a27-6e4abe0d2936"
   },
   "outputs": [
    {
     "ename": "IndentationError",
     "evalue": "unindent does not match any outer indentation level (<tokenize>, line 13)",
     "output_type": "error",
     "traceback": [
      "\u001b[1;36m  File \u001b[1;32m<tokenize>:13\u001b[1;36m\u001b[0m\n\u001b[1;33m    else:\u001b[0m\n\u001b[1;37m    ^\u001b[0m\n\u001b[1;31mIndentationError\u001b[0m\u001b[1;31m:\u001b[0m unindent does not match any outer indentation level\n"
     ]
    }
   ],
   "source": [
    "p = int(input('enter percentage '))\n",
    "if p>=0 and p<=25:\n",
    "    print('grade D')\n",
    "else:\n",
    "    if p>25 and p<=45:\n",
    "         print('grade C')\n",
    "    else:\n",
    "        if p>45 and p<=50:\n",
    "            print('grade B')\n",
    "        else:\n",
    "             if p>50 and p<=60:\n",
    "                    print('print B++')\n",
    "                else:\n",
    "                    if p>60 and p<=80:\n",
    "                           print('print A')\n",
    "                    else:\n",
    "                            if p>=80 and p<=100:\n",
    "                                print('A++')\n"
   ]
  },
  {
   "cell_type": "code",
   "execution_count": null,
   "metadata": {
    "colab": {
     "base_uri": "https://localhost:8080/"
    },
    "id": "eugmaI-fRg-1",
    "outputId": "20e7ba84-534e-4aa8-b223-94920aca7690"
   },
   "outputs": [
    {
     "name": "stdout",
     "output_type": "stream",
     "text": [
      "enter first number 7\n",
      "enter second number 8\n",
      "enter third number 67\n",
      "a is small\n",
      "take a valid input\n"
     ]
    }
   ],
   "source": [
    "a = int(input('enter first number '))\n",
    "b = int(input('enter second number '))\n",
    "c = int(input('enter third number '))\n",
    "smallest = 0\n",
    "if a<b and a<c:\n",
    "    print('a is small')\n",
    "if b<a and b<c:\n",
    "    print('b is small')\n",
    "if c<a and c<b:\n",
    "    print('c is small')\n",
    "else:\n",
    "    print('take a valid input')"
   ]
  },
  {
   "cell_type": "code",
   "execution_count": 23,
   "metadata": {
    "colab": {
     "base_uri": "https://localhost:8080/"
    },
    "id": "cZx4C80hRkzo",
    "outputId": "f8d744ee-20ce-4699-cf73-46811564b572"
   },
   "outputs": [
    {
     "name": "stdout",
     "output_type": "stream",
     "text": [
      "enter number 5\n",
      "friday\n"
     ]
    }
   ],
   "source": [
    "a = int(input('enter number '))\n",
    "if a==1:\n",
    "    print('monday')\n",
    "elif a==2:\n",
    "    print('tuesday')\n",
    "elif a==3:\n",
    "    print('wednesday')\n",
    "elif a==4:\n",
    "    print('thursday')\n",
    "elif a==5:\n",
    "    print('friday')\n",
    "elif a==6:\n",
    "    print('saturday')\n",
    "elif a==7:\n",
    "    print('sunday')\n",
    "else:\n",
    "    print('wrong number')"
   ]
  },
  {
   "cell_type": "code",
   "execution_count": null,
   "metadata": {
    "colab": {
     "base_uri": "https://localhost:8080/"
    },
    "id": "ZXZzwnL2RtGM",
    "outputId": "5b024bb4-57c1-45c9-b17d-2ee854937803"
   },
   "outputs": [
    {
     "name": "stdout",
     "output_type": "stream",
     "text": [
      "enter first number 8\n",
      "enter second number 9\n",
      "operator +\n",
      "17\n"
     ]
    }
   ],
   "source": [
    "a = int(input('enter first number '))\n",
    "b = int(input('enter second number '))\n",
    "o = input('operator ')\n",
    "if o=='+':\n",
    "    print(a+b)\n",
    "elif o=='-':\n",
    "    print(a-b)\n",
    "elif o=='*':\n",
    "    print(a*b)\n",
    "else:\n",
    "    print('take a valid input! ')"
   ]
  },
  {
   "cell_type": "code",
   "execution_count": 24,
   "metadata": {
    "colab": {
     "base_uri": "https://localhost:8080/"
    },
    "id": "yUTAXTlCSEkL",
    "outputId": "43c8b63e-4f27-4474-93be-11df07b1136a"
   },
   "outputs": [
    {
     "name": "stdout",
     "output_type": "stream",
     "text": [
      "enter first sub marks 50\n",
      "enter second sub marks 65\n",
      "enter third sub marks 80\n",
      "enter forth sub marks 75\n",
      "commerce stream \n"
     ]
    }
   ],
   "source": [
    "sub1 = int(input('enter first sub marks '))\n",
    "sub2 = int(input('enter second sub marks '))\n",
    "sub3 = int(input('enter third sub marks '))\n",
    "sub4 = int(input('enter forth sub marks '))\n",
    "per=(sub1+sub2+sub3+sub4)/4\n",
    "\n",
    "if per>80:\n",
    "    print('science stream ')\n",
    "elif per<=80 and per>60:\n",
    "    print('commerce stream ')\n",
    "elif per<=60 and per>=50:\n",
    "    print('atrs stream')\n",
    "else:\n",
    "    print('take a valid input!')"
   ]
  },
  {
   "cell_type": "code",
   "execution_count": null,
   "metadata": {
    "id": "PpXAX5TGSFsf"
   },
   "outputs": [],
   "source": [
    "a = int(input('enter a number '))\n",
    "if a<0:\n",
    "    print('number is negative')\n",
    "else:\n",
    "    print('number is positive')"
   ]
  },
  {
   "cell_type": "code",
   "execution_count": null,
   "metadata": {
    "id": "3BjFsMKxSImA"
   },
   "outputs": [],
   "source": [
    "a = int(input('enter age '))\n",
    "if a>60:\n",
    "    print('he is senior citizen')\n",
    "else:\n",
    "    print('he is not senior citizen')"
   ]
  },
  {
   "cell_type": "code",
   "execution_count": null,
   "metadata": {
    "id": "piQnSvi1SNZO"
   },
   "outputs": [],
   "source": [
    "a = int(input('enter a number '))\n",
    "if a%7==0:\n",
    "    print('number is divisible by 7')\n",
    "else:\n",
    "    print('not divisible')"
   ]
  },
  {
   "cell_type": "code",
   "execution_count": null,
   "metadata": {
    "id": "Sao63nFKSQfQ"
   },
   "outputs": [],
   "source": [
    "a = int(input('enter multiple of five number '))\n",
    "if a%5==0:\n",
    "    print('hello')\n",
    "else:\n",
    "    print('bye')"
   ]
  },
  {
   "cell_type": "code",
   "execution_count": null,
   "metadata": {
    "id": "G6LMl_i3STwn"
   },
   "outputs": [],
   "source": [
    "num = int(input('enter any number '))\n",
    "d = num%10\n",
    "print('last digit of number is ',d)\n",
    "if d%3==0:\n",
    "    print('yes divisible by 3')\n",
    "else:\n",
    "    print('not divisible')\n",
    "\n"
   ]
  },
  {
   "cell_type": "code",
   "execution_count": null,
   "metadata": {
    "id": "BFBPm1kLSYXF"
   },
   "outputs": [],
   "source": [
    "tax = 0\n",
    "pr = int(input('enter the price of bike '))\n",
    "if pr>100000:\n",
    "    tax = 15/100*pr\n",
    "elif pr>50000 and pr<=100000:\n",
    "    tax = 10/100*pr\n",
    "else:\n",
    "    tax = 5/100*pr\n",
    "    print('tax to be paid ',tax)"
   ]
  },
  {
   "cell_type": "code",
   "execution_count": null,
   "metadata": {
    "id": "MwuSTa25Sc_e"
   },
   "outputs": [],
   "source": [
    "yr = int(input('entered the year '))\n",
    "if yr%4==0:\n",
    "    print('entered year is leap year ')\n",
    "else:\n",
    "    print('entered year is not a leap year')"
   ]
  },
  {
   "cell_type": "code",
   "execution_count": null,
   "metadata": {
    "id": "c1iVguipSgFg"
   },
   "outputs": [],
   "source": [
    "city = input('ente name of city ')\n",
    "if city=='delhi':\n",
    "    print('monument name is red fort')\n",
    "elif city=='agra':\n",
    "    print('monument name is tajmahal')\n",
    "elif city=='jaipur':\n",
    "    print('monument name is jalmahal')\n",
    "else:\n",
    "    print('take a valid input')"
   ]
  },
  {
   "cell_type": "code",
   "execution_count": null,
   "metadata": {
    "id": "zPGfsXNVSjKq"
   },
   "outputs": [],
   "source": [
    "a = int(input('enter first number '))\n",
    "b = int(input('enter second number '))\n",
    "if a>b:\n",
    "    print('smaller number is ',b)\n",
    "else:\n",
    "    print('smaller number is ',a)"
   ]
  },
  {
   "cell_type": "code",
   "execution_count": null,
   "metadata": {
    "id": "5-K-raR1SmuE"
   },
   "outputs": [],
   "source": [
    "a = int(input('enter first number '))\n",
    "if a%1==0 and b%2==0:\n",
    "    print('divisible bye 2 and 3 both')\n",
    "else:\n",
    "    print('not divisible by both')"
   ]
  },
  {
   "cell_type": "code",
   "execution_count": 25,
   "metadata": {
    "colab": {
     "base_uri": "https://localhost:8080/"
    },
    "id": "26xVT0Y8Sqie",
    "outputId": "ddb57c63-8323-42f1-9aae-c27be06ee4f1"
   },
   "outputs": [
    {
     "name": "stdout",
     "output_type": "stream",
     "text": [
      "enter age of first person 45\n",
      "enter age of second person 47\n",
      "enter age of third person 62\n",
      "enter age of forth person 6\n",
      "age of oldest person  62\n"
     ]
    }
   ],
   "source": [
    "a = int(input('enter age of first person '))\n",
    "b = int(input('enter age of second person '))\n",
    "c = int(input('enter age of third person '))\n",
    "d = int(input('enter age of forth person '))\n",
    "if a>b and a>c and a>d:\n",
    "    print('age of oldest person ',a)\n",
    "if b>a and b>c and b>d:\n",
    "    print('age of oldest person ',b)\n",
    "if c>a and c>b and c>d:\n",
    "    print('age of oldest person ',c)\n",
    "if d>a and d>b and d>c:\n",
    "    print('age of oldest person ',d)"
   ]
  },
  {
   "cell_type": "code",
   "execution_count": null,
   "metadata": {
    "colab": {
     "base_uri": "https://localhost:8080/"
    },
    "id": "Gjn2plvLSudP",
    "outputId": "c69fe9f7-a9a0-49bb-e7f3-f6228e843999"
   },
   "outputs": [
    {
     "name": "stdout",
     "output_type": "stream",
     "text": [
      "enter the alphabet h\n",
      "alphabet is constant\n"
     ]
    }
   ],
   "source": [
    "a = input('enter the alphabet ')\n",
    "if a=='aeiouAEIOU':\n",
    "    print('alphabet is vowel')\n",
    "else:\n",
    "    print('alphabet is constant')"
   ]
  },
  {
   "cell_type": "code",
   "execution_count": null,
   "metadata": {
    "colab": {
     "base_uri": "https://localhost:8080/"
    },
    "id": "TcY7iTvPSxck",
    "outputId": "73c8716b-8a86-44e4-f8a3-8e2bb7d27541"
   },
   "outputs": [
    {
     "name": "stdout",
     "output_type": "stream",
     "text": [
      "enter the working days 98\n",
      "enter number of absent 30\n",
      "attendence is  69.38775510204081\n",
      "not eligible\n"
     ]
    }
   ],
   "source": [
    "wd = int(input('enter the working days '))\n",
    "ad = int(input('enter number of absent '))\n",
    "per = (wd-ad)/wd*100\n",
    "print('attendence is ',per)\n",
    "if per>75:\n",
    "    print('you are eligible for exam')\n",
    "else:\n",
    "    print('not eligible')"
   ]
  },
  {
   "cell_type": "code",
   "execution_count": 27,
   "metadata": {
    "colab": {
     "base_uri": "https://localhost:8080/"
    },
    "id": "v597PmD7S1L2",
    "outputId": "bad67c28-3bb4-4e78-a9f6-ff5727309d21"
   },
   "outputs": [
    {
     "name": "stdout",
     "output_type": "stream",
     "text": [
      "enter period of service 2\n",
      "enter your salary 45000\n",
      "bonus is  2250.0\n"
     ]
    }
   ],
   "source": [
    "ser = int(input('enter period of service '))\n",
    "sa = int(input('enter your salary '))\n",
    "if ser>10:\n",
    "    b = 10/100*sa\n",
    "if ser>=6 and ser<=10:\n",
    "    b = 8/100*sa\n",
    "if ser<6:\n",
    "    b = 5/100*sa\n",
    "    print('bonus is ',b)\n"
   ]
  },
  {
   "cell_type": "code",
   "execution_count": null,
   "metadata": {
    "id": "q_iHZtTVS6S3"
   },
   "outputs": [],
   "source": [
    "mp = int(input('enter the market price '))\n",
    "if mp>10000:\n",
    "    d = 20/100*mp\n",
    "if mp>7000 and mp<=10000:\n",
    "    d = 15/100*mp\n",
    "if mp<=7000:\n",
    "    d = 10/100*mp\n",
    "na = mp-d\n",
    "print('net amount to pay ',d)"
   ]
  },
  {
   "cell_type": "code",
   "execution_count": 28,
   "metadata": {
    "colab": {
     "base_uri": "https://localhost:8080/"
    },
    "id": "wMgIRcxoS9sa",
    "outputId": "057981e2-faa9-4d57-a344-c9d4fb3b269f"
   },
   "outputs": [
    {
     "name": "stdout",
     "output_type": "stream",
     "text": [
      "enter a first person age 52\n",
      "enter a second person age 45\n",
      "enter a third person age 63\n",
      "enter a fourth person age 12\n",
      "age of youngest perdson 12\n"
     ]
    }
   ],
   "source": [
    "a = int(input('enter a first person age '))\n",
    "b = int(input('enter a second person age '))\n",
    "c = int(input('enter a third person age '))\n",
    "d = int(input('enter a fourth person age '))\n",
    "if a<b and a<c and a<d:\n",
    "    print('age of youngest person',a)\n",
    "if b<a and b<c and b<d:\n",
    "    print ('age of youngest person',b)\n",
    "if c<a and c<b and c<d:\n",
    "    print('age of youngest person',c)\n",
    "if d<a and d<b and d<c:\n",
    "    print('age of youngest person',d)\n",
    "else:\n",
    "    print('take a valid input')\n"
   ]
  },
  {
   "cell_type": "code",
   "execution_count": null,
   "metadata": {
    "colab": {
     "base_uri": "https://localhost:8080/"
    },
    "id": "N6VqKhUDTBbF",
    "outputId": "461ef9ca-d2e9-49a5-902d-97fa7d376b2c"
   },
   "outputs": [
    {
     "name": "stdout",
     "output_type": "stream",
     "text": [
      "enter time 65\n",
      "invalid input\n"
     ]
    }
   ],
   "source": [
    "time = eval(input('enter time '))\n",
    "if time<12:\n",
    "    print('good morning')\n",
    "elif time>24:\n",
    "    print('invalid input')\n",
    "else:\n",
    "    print('good afternoon')"
   ]
  },
  {
   "cell_type": "code",
   "execution_count": null,
   "metadata": {
    "colab": {
     "base_uri": "https://localhost:8080/"
    },
    "id": "D9lcaUniTHIv",
    "outputId": "7c1f07fd-9cb2-4ca7-b16c-b2b6ee96dfd5"
   },
   "outputs": [
    {
     "name": "stdout",
     "output_type": "stream",
     "text": [
      "enter marks 65\n",
      "true\n"
     ]
    }
   ],
   "source": [
    "marks = int(input('enter marks '))\n",
    "if marks==75 or marks<=75:\n",
    "    print('true')\n",
    "elif marks>100:\n",
    "    print('invalid input')\n",
    "else:\n",
    "    print('false')"
   ]
  },
  {
   "cell_type": "code",
   "execution_count": 29,
   "metadata": {
    "colab": {
     "base_uri": "https://localhost:8080/"
    },
    "id": "hgWKcJnZTKPO",
    "outputId": "63b15a64-8e0b-4414-d99b-24a2cbeb17ea"
   },
   "outputs": [
    {
     "name": "stdout",
     "output_type": "stream",
     "text": [
      "enter the kilometer 12\n",
      "total amount to pay  96\n"
     ]
    }
   ],
   "source": [
    "kmc = int(input('enter the kilometer '))\n",
    "if kmc>=1 and kmc<=50:\n",
    "    pr = kmc*8\n",
    "    print('total amount to pay ',pr)\n",
    "elif kmc>=51 and kmc<=100:\n",
    "    pr = 400+(kmc-50)*10\n",
    "    print('total amount to pay ',pr)\n",
    "elif kmc>100:\n",
    "    pr = 1400+(kmc-100)*12\n",
    "    print('total amount to pay ',pr)\n"
   ]
  },
  {
   "cell_type": "code",
   "execution_count": 31,
   "metadata": {
    "colab": {
     "base_uri": "https://localhost:8080/"
    },
    "id": "CB4kJNo7TOMF",
    "outputId": "3ffe4b69-b1f8-4a7a-93d3-fb4070366983"
   },
   "outputs": [
    {
     "name": "stdout",
     "output_type": "stream",
     "text": [
      "enter the booking type advance\n",
      "enter the seat window\n",
      "enter the person 5\n",
      "take a valid input\n",
      "9.2\n"
     ]
    }
   ],
   "source": [
    "booking = input('enter the booking type ')\n",
    "s = input('enter the seat ')\n",
    "p = int(input('enter the person '))\n",
    "\n",
    "if s == 'Ordinary':\n",
    "    r = 2500\n",
    "elif s == 'pavillion':\n",
    "    r = 3500\n",
    "elif s == 'uper pavillion':\n",
    "    r = 4500\n",
    "elif s == 'commentary box':\n",
    "    r = 6000\n",
    "elif s == 'VIP':\n",
    "    r = 8000\n",
    "else:\n",
    "    print('take a valid input')\n",
    "a = p*r\n",
    "\n",
    "if booking == 'online':\n",
    "    d = (a*0.1)\n",
    "elif booking == 'advance':\n",
    "    d = (a*0.08)\n",
    "elif booking == 'window':\n",
    "    d = 0\n",
    "else:\n",
    "    print('take a valid input')\n",
    "ta = a-d\n",
    "print(ta)"
   ]
  },
  {
   "cell_type": "code",
   "execution_count": null,
   "metadata": {
    "colab": {
     "base_uri": "https://localhost:8080/"
    },
    "id": "FA1zxJIPXNpa",
    "outputId": "28ad896f-e478-4078-c6c7-06878422f1cb"
   },
   "outputs": [
    {
     "name": "stdout",
     "output_type": "stream",
     "text": [
      "enter a value 234\n",
      "a=40\n"
     ]
    }
   ],
   "source": [
    "a = int(input('enter a value '))\n",
    "if a<10:\n",
    "    print('a=20')\n",
    "else:\n",
    "    print('a=40')"
   ]
  }
 ],
 "metadata": {
  "colab": {
   "provenance": []
  },
  "kernelspec": {
   "display_name": "Python 3 (ipykernel)",
   "language": "python",
   "name": "python3"
  },
  "language_info": {
   "codemirror_mode": {
    "name": "ipython",
    "version": 3
   },
   "file_extension": ".py",
   "mimetype": "text/x-python",
   "name": "python",
   "nbconvert_exporter": "python",
   "pygments_lexer": "ipython3",
   "version": "3.11.4"
  }
 },
 "nbformat": 4,
 "nbformat_minor": 1
}
